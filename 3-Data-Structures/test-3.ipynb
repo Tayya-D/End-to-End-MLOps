{
 "cells": [
  {
   "cell_type": "markdown",
   "metadata": {},
   "source": [
    "### Lists"
   ]
  },
  {
   "cell_type": "code",
   "execution_count": 3,
   "metadata": {},
   "outputs": [
    {
     "name": "stdout",
     "output_type": "stream",
     "text": [
      "Don't forget to pay the utility bills.\n",
      "Task: buy groceries\n",
      "Task: pay bills\n",
      "Task: schedule meeting\n",
      "Task: go for a run\n"
     ]
    }
   ],
   "source": [
    "\n",
    "to_do_list = [\"buy groceries\", \"clean the house\", \"pay bills\"]\n",
    "to_do_list.append(\"schedule meeting\")  # Add a new task\n",
    "to_do_list.append(\"go for a run\")     # Add another task\n",
    "to_do_list.remove(\"clean the house\")  # Remove a completed task\n",
    "\n",
    "# Check if a task is in the list\n",
    "if \"pay bills\" in to_do_list:\n",
    "    print(\"Don't forget to pay the utility bills.\")\n",
    "\n",
    "# Print remaining tasks\n",
    "for task in to_do_list:\n",
    "    print(f\"Task: {task}\")\n"
   ]
  },
  {
   "cell_type": "code",
   "execution_count": 4,
   "metadata": {},
   "outputs": [
    {
     "name": "stdout",
     "output_type": "stream",
     "text": [
      "Postive Feedback Count: 2\n",
      "User Feedback:\n",
      "-Great Service\n",
      "-Very Pleased\n",
      "-Could be better\n",
      "-Excellent experience\n",
      "-Not happy with the service\n"
     ]
    }
   ],
   "source": [
    "feedback = [\"Great Service\", \"Very Pleased\", \"Could be better\", \"Excellent experience\"]\n",
    "\n",
    "feedback.append(\"Not happy with the service\")\n",
    "\n",
    "positive_feedback_count = sum(1 for i in feedback if \"great\" in i.lower() or \n",
    "                              \"excellent\" in i.lower())\n",
    "print(f\"Postive Feedback Count: {positive_feedback_count}\")\n",
    "\n",
    "print(\"User Feedback:\")\n",
    "for i in feedback:\n",
    "    print(f\"-{i}\")"
   ]
  },
  {
   "cell_type": "markdown",
   "metadata": {},
   "source": [
    "### Sets"
   ]
  },
  {
   "cell_type": "code",
   "execution_count": 8,
   "metadata": {},
   "outputs": [
    {
     "name": "stdout",
     "output_type": "stream",
     "text": [
      "<class 'set'>\n",
      "<class 'set'>\n"
     ]
    }
   ],
   "source": [
    "my_set = {1, 2, 3, 4, 5}  # Create a set\n",
    "empty_set = set()  # Create an empty set\n",
    "print(type(my_set))\n",
    "print(type(empty_set))"
   ]
  },
  {
   "cell_type": "code",
   "execution_count": null,
   "metadata": {},
   "outputs": [
    {
     "name": "stdout",
     "output_type": "stream",
     "text": [
      "{1, 2, 3, 4, 5}\n",
      "<class 'set'>\n"
     ]
    }
   ],
   "source": [
    "list_to_set = set([1, 2, 3, 4, 5, 5])  # Converts a list to a set\n",
    "print(list_to_set)\n",
    "print(type(list_to_set)) # prints the set - ignoring the duplicates"
   ]
  },
  {
   "cell_type": "code",
   "execution_count": null,
   "metadata": {},
   "outputs": [
    {
     "name": "stdout",
     "output_type": "stream",
     "text": [
      "{1, 2, 3, 4}\n"
     ]
    }
   ],
   "source": [
    "my_set = {1, 2, 2, 3, 4}  # Duplicates are ignored\n",
    "print(my_set)  # Output: {1, 2, 3, 4}"
   ]
  },
  {
   "cell_type": "code",
   "execution_count": 7,
   "metadata": {},
   "outputs": [
    {
     "name": "stdout",
     "output_type": "stream",
     "text": [
      "{1, 2, 3, 4, 6}\n"
     ]
    }
   ],
   "source": [
    "my_set.add(6)  # Add an element\n",
    "print(my_set)"
   ]
  },
  {
   "cell_type": "code",
   "execution_count": 13,
   "metadata": {},
   "outputs": [
    {
     "name": "stdout",
     "output_type": "stream",
     "text": [
      "True\n",
      "False\n"
     ]
    }
   ],
   "source": [
    "## Membership test\n",
    "\n",
    "member_set = {1,2,3,4,5}\n",
    "print(3 in member_set)  # returns a boolean value of true or false depending on the statement\n",
    "print(11 in member_set)\n",
    "\n"
   ]
  },
  {
   "cell_type": "code",
   "execution_count": 16,
   "metadata": {},
   "outputs": [
    {
     "name": "stdout",
     "output_type": "stream",
     "text": [
      "{1, 2, 3, 4, 5, 6, 7, 8, 9}\n",
      "{4, 5, 6}\n",
      "{4, 5, 6}\n"
     ]
    }
   ],
   "source": [
    "## Mathematical Operation \n",
    "\n",
    "set1 = {1,2,3,4,5,6}\n",
    "set2 = {4,5,6,7,8,9}\n",
    "\n",
    "### Union - combining two sets\n",
    "\n",
    "union_set = set1.union(set2)\n",
    "print(union_set)\n",
    "\n",
    "## Intersection - where two sets have commonalities\n",
    "\n",
    "intersection_set = set1.intersection(set2)\n",
    "print(intersection_set)\n",
    "\n",
    "## intersection_update - sets the commonalities of the two sets to the desired set\n",
    "\n",
    "set1.intersection_update(set2)\n",
    "print(set1)  ## set1 will now hold just the integers that were common in both set1 and set2\n",
    "\n",
    "\n"
   ]
  },
  {
   "cell_type": "code",
   "execution_count": 19,
   "metadata": {},
   "outputs": [
    {
     "name": "stdout",
     "output_type": "stream",
     "text": [
      "{1, 2, 3}\n",
      "{1, 2, 3}\n"
     ]
    }
   ],
   "source": [
    "set1 = {1,2,3,4,5,6}\n",
    "set2 = {4,5,6,7,8,9}\n",
    "\n",
    "## Difference\n",
    "difference_set = set1.difference(set2)    ## assigns the difference of the two sets\n",
    "print(difference_set) \n",
    "\n",
    "set1.difference_update(set2)   ## assigns the difference to set1 of the two sets\n",
    "print(set1)\n"
   ]
  },
  {
   "cell_type": "code",
   "execution_count": null,
   "metadata": {},
   "outputs": [
    {
     "data": {
      "text/plain": [
       "{1, 2, 3, 7, 8, 9}"
      ]
     },
     "execution_count": 21,
     "metadata": {},
     "output_type": "execute_result"
    }
   ],
   "source": [
    "## Symmetric Difference - combining the unique elements from both sets \n",
    "\n",
    "set1 = {1,2,3,4,5,6}\n",
    "set2 = {4,5,6,7,8,9}\n",
    "\n",
    "set1.symmetric_difference(set2)\n",
    "\n"
   ]
  },
  {
   "cell_type": "code",
   "execution_count": 23,
   "metadata": {},
   "outputs": [
    {
     "name": "stdout",
     "output_type": "stream",
     "text": [
      "False\n",
      "False\n"
     ]
    }
   ],
   "source": [
    "## Set Methods\n",
    "\n",
    "set1 = {1,2,3}\n",
    "set2 = {3,4,5}\n",
    "\n",
    "## is subset\n",
    "\n",
    "print(set1.issubset(set2))  ## this checks if all the elements in set1 are in set2 (AKA is set2 a parent set of set1)\n",
    "## return will be False -> not ALL elements in set1 are in set2\n",
    "\n",
    "\n",
    "## is superset\n",
    "\n",
    "print(set1.issuperset(set2)) ## this does the opposite of issubset \n",
    "## -> it checks if set1 is a parent of set2 (i.e does set1 have all the elements of set2)\n",
    "## in this case it will also return False\n",
    "\n",
    "\n"
   ]
  },
  {
   "cell_type": "code",
   "execution_count": null,
   "metadata": {},
   "outputs": [
    {
     "data": {
      "text/plain": [
       "{1, 2, 3, 4, 5}"
      ]
     },
     "execution_count": 24,
     "metadata": {},
     "output_type": "execute_result"
    }
   ],
   "source": [
    "## Converting list to set\n",
    "\n",
    "lst = [1,2,2,3,4,4,5]\n",
    "\n",
    "set(lst)\n",
    "## when run it outputs the list as a set; removing dups\n"
   ]
  },
  {
   "cell_type": "code",
   "execution_count": 26,
   "metadata": {},
   "outputs": [
    {
     "name": "stdout",
     "output_type": "stream",
     "text": [
      "{'sets', 'are', 'learning', 'this', 'we', 'tutorial,', 'about', 'In'}\n",
      "8\n"
     ]
    }
   ],
   "source": [
    "## Counting unique words\n",
    "\n",
    "text = \"In this tutorial, we are learning about sets\"\n",
    "words = text.split()\n",
    "\n",
    "## covert ths list of words to a set\n",
    "\n",
    "unique_words = set(words)\n",
    "print(unique_words)\n",
    "print(len(words))"
   ]
  },
  {
   "cell_type": "markdown",
   "metadata": {},
   "source": [
    "### Tuples"
   ]
  },
  {
   "cell_type": "code",
   "execution_count": 27,
   "metadata": {},
   "outputs": [
    {
     "name": "stdout",
     "output_type": "stream",
     "text": [
      "()\n",
      "<class 'tuple'>\n"
     ]
    }
   ],
   "source": [
    "## Tuples are a collection of items of ANY type and are immutable \n",
    "## They are similar to lists but are different due to being immutable (i.e unchangable)\n",
    "\n",
    "empty_tuple = ()\n",
    "print(empty_tuple)\n",
    "print(type(empty_tuple))"
   ]
  },
  {
   "cell_type": "code",
   "execution_count": 30,
   "metadata": {},
   "outputs": [
    {
     "name": "stdout",
     "output_type": "stream",
     "text": [
      "<class 'tuple'>\n",
      "(1, 2, 3, 4, 5, 6)\n",
      "<class 'list'>\n",
      "[7, 8, 9, 10]\n"
     ]
    }
   ],
   "source": [
    "## convert lists to tuples and the same visa-vera\n",
    "\n",
    "numbers = tuple([1,2,3,4,5,6])\n",
    "print(type(numbers))\n",
    "print(numbers)\n",
    "\n",
    "tuple_to_list = (7,8,9,10)\n",
    "tuple_to_list = list(tuple_to_list)\n",
    "print(type(tuple_to_list))\n",
    "print(tuple_to_list)"
   ]
  },
  {
   "cell_type": "code",
   "execution_count": 31,
   "metadata": {},
   "outputs": [
    {
     "name": "stdout",
     "output_type": "stream",
     "text": [
      "(1, 'Hello World', 3.14, True)\n"
     ]
    }
   ],
   "source": [
    "mixed_tuple = (1, \"Hello World\", 3.14, True)\n",
    "print(mixed_tuple)"
   ]
  },
  {
   "cell_type": "code",
   "execution_count": null,
   "metadata": {},
   "outputs": [
    {
     "name": "stdout",
     "output_type": "stream",
     "text": [
      "1\n",
      "6\n"
     ]
    }
   ],
   "source": [
    "## indexing starts from 0\n",
    "\n",
    "numbers = (1, 2, 3, 4, 5, 6)\n",
    "print(numbers[0])  # Output: 1\n",
    "print(numbers[-1]) # Output: 6 (last element)"
   ]
  },
  {
   "cell_type": "code",
   "execution_count": 33,
   "metadata": {},
   "outputs": [
    {
     "name": "stdout",
     "output_type": "stream",
     "text": [
      "(1, 2, 3, 4)\n",
      "(6, 5, 4, 3, 2, 1)\n"
     ]
    }
   ],
   "source": [
    "## slicing to view a portion of the data set\n",
    "\n",
    "print(numbers[0:4])  # Output: (1, 2, 3, 4)\n",
    "print(numbers[::-1]) # Output: (6, 5, 4, 3, 2, 1) (reverse)"
   ]
  },
  {
   "cell_type": "code",
   "execution_count": null,
   "metadata": {},
   "outputs": [
    {
     "name": "stdout",
     "output_type": "stream",
     "text": [
      "(1, 2, 3, 'a', 'b', 'c')\n",
      "(1, 2, 3, 'a', 'b', 'c', 1, 2, 3, 'a', 'b', 'c')\n"
     ]
    }
   ],
   "source": [
    "## Tuple Operations**\n",
    "## Concatenation: Combine two tuples using `+`.\n",
    "\n",
    "tuple1 = (1, 2, 3)\n",
    "tuple2 = (\"a\", \"b\", \"c\")\n",
    "combined_tuple = tuple1 + tuple2  # Output: (1, 2, 3, \"a\", \"b\", \"c\")\n",
    "\n",
    "print(combined_tuple)\n",
    "\n",
    "## multiplying tuples will multiply the number of times the tuple is shown\n",
    "\n",
    "print(combined_tuple * 2)"
   ]
  },
  {
   "cell_type": "code",
   "execution_count": null,
   "metadata": {},
   "outputs": [
    {
     "name": "stdout",
     "output_type": "stream",
     "text": [
      "1\n",
      "0\n"
     ]
    }
   ],
   "source": [
    "## Tuples are immutable (unchangable once assigned) but a way around that \n",
    "## - is to convert the tuple to a list then make your changes, \n",
    "## followed by coverting the list back into a tuple\n",
    "\n",
    "## Tuple Methods\n",
    "\n",
    "print(tuple1.count(2)) ## counts how any of the speficied element is in the tuple\n",
    "\n",
    "print(tuple1.index(1)) ## returns the index position of the listed element\n",
    "\n",
    "## these are the 2 most used method used with tuples\n"
   ]
  },
  {
   "cell_type": "code",
   "execution_count": null,
   "metadata": {},
   "outputs": [
    {
     "name": "stdout",
     "output_type": "stream",
     "text": [
      "(1, 'Hello', 3.23)\n",
      "<class 'tuple'>\n",
      "1\n",
      "Hello\n",
      "3.23\n"
     ]
    }
   ],
   "source": [
    "## Packing and unpacking tuples\n",
    "## Assigning a variable elements seperated by a comma, will 'pack' the elements as a tuple\n",
    "\n",
    "packed_tuple = 1, \"Hello\", 3.23\n",
    "print(packed_tuple)\n",
    "print(type(packed_tuple))\n",
    "\n",
    "## Unpacking a tuple\n",
    "## why would you want to upack a tuple?\n",
    "\n",
    "a, b, c = packed_tuple\n",
    "\n",
    "print(a)\n",
    "print(b)\n",
    "print(c)\n",
    "\n"
   ]
  },
  {
   "cell_type": "code",
   "execution_count": null,
   "metadata": {},
   "outputs": [
    {
     "name": "stdout",
     "output_type": "stream",
     "text": [
      "1\n",
      "[2, 3, 4, 5]\n",
      "6\n"
     ]
    }
   ],
   "source": [
    "## Unpacking with *\n",
    "\n",
    "numbers = (1,2,3,4,5,6)\n",
    "first, *middle, last = numbers\n",
    "\n",
    "print(first)\n",
    "print(middle) ## prints a list of unpacked elements\n",
    "print(last)\n",
    "\n",
    "\n"
   ]
  },
  {
   "cell_type": "code",
   "execution_count": null,
   "metadata": {},
   "outputs": [
    {
     "name": "stdout",
     "output_type": "stream",
     "text": [
      "[1, 2, 3, 4, 5]\n",
      "3\n",
      "[1, 2, 3]\n"
     ]
    }
   ],
   "source": [
    "## Nested List \n",
    "\n",
    "lst = [[1,2,3,4,5], [6,7,8], [1, \"Hello\", 3.13, \"cc\"]]\n",
    "print(lst[0]) ## returns the list in index 0 of lst\n",
    "\n",
    "## to get a particular element in the nested list - you use another list attribute to call for it\n",
    "print(lst[0][2]) ## returns the element in index 2 from the list in index 0\n",
    "\n",
    "## can also slice \n",
    "print(lst[0][0:3]) ## this returns the elements from index 0 to 3 (not including 3rd index) in the first list\n"
   ]
  },
  {
   "cell_type": "code",
   "execution_count": 54,
   "metadata": {},
   "outputs": [
    {
     "data": {
      "text/plain": [
       "(1, 'Hello')"
      ]
     },
     "execution_count": 54,
     "metadata": {},
     "output_type": "execute_result"
    }
   ],
   "source": [
    "lst = [[1,2,3,4,5], [6,7,8], (1, \"Hello\", 3.13, \"cc\")] ## can have tuples in a list and use the same operations\n",
    "\n",
    "lst[2][0:2]\n",
    "\n"
   ]
  },
  {
   "cell_type": "code",
   "execution_count": 55,
   "metadata": {},
   "outputs": [
    {
     "name": "stdout",
     "output_type": "stream",
     "text": [
      "(1, 2, 3)\n",
      "c\n"
     ]
    }
   ],
   "source": [
    "## Nested tuples\n",
    "\n",
    "nested_tuple = ((1, 2, 3), (\"a\", \"b\", \"c\"), (True, False))\n",
    "\n",
    "print(nested_tuple[0])       # Output: (1, 2, 3)\n",
    "print(nested_tuple[1][2])    # Output: \"c\""
   ]
  },
  {
   "cell_type": "code",
   "execution_count": 56,
   "metadata": {},
   "outputs": [
    {
     "name": "stdout",
     "output_type": "stream",
     "text": [
      "1 2 3 \n",
      "a b c \n",
      "True False \n"
     ]
    }
   ],
   "source": [
    "## iterating over a tuple\n",
    "\n",
    "for sub_tuple in nested_tuple:\n",
    "    for item in sub_tuple:\n",
    "        print(item, end=\" \")\n",
    "    print()"
   ]
  },
  {
   "cell_type": "markdown",
   "metadata": {},
   "source": [
    "### Dictionaries"
   ]
  },
  {
   "cell_type": "markdown",
   "metadata": {},
   "source": [
    "## Are unordered collections of items. They store key-value pairs - Keys must be unique and immutable, while values can be of any type\n"
   ]
  },
  {
   "cell_type": "code",
   "execution_count": 2,
   "metadata": {},
   "outputs": [
    {
     "name": "stdout",
     "output_type": "stream",
     "text": [
      "<class 'dict'>\n",
      "{}\n"
     ]
    }
   ],
   "source": [
    "## Create Dictionaries using {} and using the dict() class\n",
    "\n",
    "empty_dict = {}\n",
    "print(type(empty_dict))\n",
    "\n",
    "empty_dict = dict()\n",
    "print(empty_dict)"
   ]
  },
  {
   "cell_type": "code",
   "execution_count": null,
   "metadata": {},
   "outputs": [
    {
     "name": "stdout",
     "output_type": "stream",
     "text": [
      "{'name': 'Tom', 'age': 32, 'grade': 24}\n",
      "<class 'dict'>\n",
      "Not Available\n"
     ]
    }
   ],
   "source": [
    "student = {\"name\": \"Tom\", \"age\":32, \"grade\":24}\n",
    "print(student)\n",
    "print(type(student))\n",
    "\n",
    "print(student.get(\"last_name\", \"Not Available\")) # using the get() function to pull a value for a specific key. \n",
    "# The \"Not Available\" gives a default value to \"last_name\" in this case - if it cannot find a value or a key specified"
   ]
  },
  {
   "cell_type": "code",
   "execution_count": 4,
   "metadata": {},
   "outputs": [
    {
     "name": "stdout",
     "output_type": "stream",
     "text": [
      "{'name': 'Tom', 'age': 29, 'grade': 24, 'address': 'Moon'}\n",
      "{'name': 'Tom', 'age': 29, 'grade': 24, 'address': 'Moon'}\n",
      "{'name': 'Tom', 'age': 29, 'address': 'Moon'}\n"
     ]
    }
   ],
   "source": [
    "## Modifying Dictionary Elements\n",
    "## Dictionaries are mutable, so you can add, update or delete elements\n",
    "\n",
    "print(student)\n",
    "student[\"age\"] = 29  ## updated value\n",
    "student[\"address\"] = \"Moon\"  ## added new key and value\n",
    "print(student)\n",
    "\n",
    "## delete key use 'del'\n",
    "\n",
    "del student[\"grade\"]\n",
    "\n",
    "print(student)\n"
   ]
  },
  {
   "cell_type": "code",
   "execution_count": null,
   "metadata": {},
   "outputs": [
    {
     "name": "stdout",
     "output_type": "stream",
     "text": [
      "dict_keys(['name', 'age', 'address'])\n",
      "dict_values(['Tom', 29, 'Moon'])\n",
      "dict_items([('name', 'Tom'), ('age', 29), ('address', 'Moon')])\n"
     ]
    }
   ],
   "source": [
    "## Dictionary methods\n",
    "\n",
    "keys = student.keys()  ## gets all keys\n",
    "print(keys)\n",
    "\n",
    "values = student.values() ## gets all values\n",
    "print(values)\n",
    "\n",
    "items = student.items() ## gets all key value pairs - being returned as a list of tuples\n",
    "print(items)"
   ]
  },
  {
   "cell_type": "code",
   "execution_count": 10,
   "metadata": {},
   "outputs": [
    {
     "name": "stdout",
     "output_type": "stream",
     "text": [
      "{'name': 'Josh', 'age': 29, 'address': 'Moon'}\n",
      "{'name': 'Josh', 'age': 29, 'address': 'Moon'}\n",
      "{'name': 'Josh', 'age': 29, 'address': 'Moon'}\n",
      "{'name': 'Josh', 'age': 29, 'address': 'Moon'}\n",
      "--------\n",
      "{'name': 'Josh', 'age': 29, 'address': 'Moon'}\n",
      "{'name': 'Josh', 'age': 29, 'address': 'Moon'}\n",
      "{'name': 'Josh', 'age': 29, 'address': 'Moon'}\n",
      "{'name': 'Jerry', 'age': 29, 'address': 'Moon'}\n"
     ]
    }
   ],
   "source": [
    "## shallow copy - > never do this mistake (important concept!)\n",
    "\n",
    "student_copy = student ## student_copy now holds the same value as student\n",
    "print(student)\n",
    "print(student_copy) \n",
    "\n",
    "student[\"name\"] = \"Josh\" ## have now updated the value of student but not student_copy\n",
    "print(student)\n",
    "print(student_copy)  ## however when we print the value - it returns the same value as student\n",
    "print(\"--------\")\n",
    "\n",
    "## to make a shallow copy - one that does not update when the original is updated -> use the copy() function\n",
    "student_copy1 = student.copy()  ## this function uses a different memory from the one typically used when running code regularly \n",
    "print(student_copy1)\n",
    "print(student) \n",
    "## the two values will be the same but now when we update student only - they will both be different\n",
    "\n",
    "student[\"name\"] = \"Jerry\"\n",
    "\n",
    "print(student_copy1)\n",
    "print(student)\n",
    "\n"
   ]
  },
  {
   "cell_type": "code",
   "execution_count": 12,
   "metadata": {},
   "outputs": [
    {
     "name": "stdout",
     "output_type": "stream",
     "text": [
      "{'a': 1, 'b': 3, 'c': 4}\n"
     ]
    }
   ],
   "source": [
    "## merging dictionaries\n",
    "\n",
    "dict1 = {\"a\": 1, \"b\": 2}\n",
    "dict2 = {\"b\": 3, \"c\": 4}\n",
    "merged_dict = {**dict1, **dict2}  # Output: {'a': 1, 'b': 3, 'c': 4}\n",
    "\n",
    "print(merged_dict)"
   ]
  },
  {
   "cell_type": "code",
   "execution_count": null,
   "metadata": {},
   "outputs": [],
   "source": []
  }
 ],
 "metadata": {
  "kernelspec": {
   "display_name": "Python 3",
   "language": "python",
   "name": "python3"
  },
  "language_info": {
   "codemirror_mode": {
    "name": "ipython",
    "version": 3
   },
   "file_extension": ".py",
   "mimetype": "text/x-python",
   "name": "python",
   "nbconvert_exporter": "python",
   "pygments_lexer": "ipython3",
   "version": "3.12.0"
  }
 },
 "nbformat": 4,
 "nbformat_minor": 2
}
