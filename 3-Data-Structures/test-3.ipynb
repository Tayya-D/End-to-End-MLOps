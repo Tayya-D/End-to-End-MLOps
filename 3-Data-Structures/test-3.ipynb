{
 "cells": [
  {
   "cell_type": "markdown",
   "metadata": {},
   "source": [
    "### Lists"
   ]
  },
  {
   "cell_type": "code",
   "execution_count": 3,
   "metadata": {},
   "outputs": [
    {
     "name": "stdout",
     "output_type": "stream",
     "text": [
      "Don't forget to pay the utility bills.\n",
      "Task: buy groceries\n",
      "Task: pay bills\n",
      "Task: schedule meeting\n",
      "Task: go for a run\n"
     ]
    }
   ],
   "source": [
    "\n",
    "to_do_list = [\"buy groceries\", \"clean the house\", \"pay bills\"]\n",
    "to_do_list.append(\"schedule meeting\")  # Add a new task\n",
    "to_do_list.append(\"go for a run\")     # Add another task\n",
    "to_do_list.remove(\"clean the house\")  # Remove a completed task\n",
    "\n",
    "# Check if a task is in the list\n",
    "if \"pay bills\" in to_do_list:\n",
    "    print(\"Don't forget to pay the utility bills.\")\n",
    "\n",
    "# Print remaining tasks\n",
    "for task in to_do_list:\n",
    "    print(f\"Task: {task}\")\n"
   ]
  },
  {
   "cell_type": "code",
   "execution_count": 4,
   "metadata": {},
   "outputs": [
    {
     "name": "stdout",
     "output_type": "stream",
     "text": [
      "Postive Feedback Count: 2\n",
      "User Feedback:\n",
      "-Great Service\n",
      "-Very Pleased\n",
      "-Could be better\n",
      "-Excellent experience\n",
      "-Not happy with the service\n"
     ]
    }
   ],
   "source": [
    "feedback = [\"Great Service\", \"Very Pleased\", \"Could be better\", \"Excellent experience\"]\n",
    "\n",
    "feedback.append(\"Not happy with the service\")\n",
    "\n",
    "positive_feedback_count = sum(1 for i in feedback if \"great\" in i.lower() or \n",
    "                              \"excellent\" in i.lower())\n",
    "print(f\"Postive Feedback Count: {positive_feedback_count}\")\n",
    "\n",
    "print(\"User Feedback:\")\n",
    "for i in feedback:\n",
    "    print(f\"-{i}\")"
   ]
  },
  {
   "cell_type": "markdown",
   "metadata": {},
   "source": [
    "### Sets"
   ]
  },
  {
   "cell_type": "code",
   "execution_count": 8,
   "metadata": {},
   "outputs": [
    {
     "name": "stdout",
     "output_type": "stream",
     "text": [
      "<class 'set'>\n",
      "<class 'set'>\n"
     ]
    }
   ],
   "source": [
    "my_set = {1, 2, 3, 4, 5}  # Create a set\n",
    "empty_set = set()  # Create an empty set\n",
    "print(type(my_set))\n",
    "print(type(empty_set))"
   ]
  },
  {
   "cell_type": "code",
   "execution_count": null,
   "metadata": {},
   "outputs": [
    {
     "name": "stdout",
     "output_type": "stream",
     "text": [
      "{1, 2, 3, 4, 5}\n",
      "<class 'set'>\n"
     ]
    }
   ],
   "source": [
    "list_to_set = set([1, 2, 3, 4, 5, 5])  # Converts a list to a set\n",
    "print(list_to_set)\n",
    "print(type(list_to_set)) # prints the set - ignoring the duplicates"
   ]
  },
  {
   "cell_type": "code",
   "execution_count": null,
   "metadata": {},
   "outputs": [
    {
     "name": "stdout",
     "output_type": "stream",
     "text": [
      "{1, 2, 3, 4}\n"
     ]
    }
   ],
   "source": [
    "my_set = {1, 2, 2, 3, 4}  # Duplicates are ignored\n",
    "print(my_set)  # Output: {1, 2, 3, 4}"
   ]
  },
  {
   "cell_type": "code",
   "execution_count": 7,
   "metadata": {},
   "outputs": [
    {
     "name": "stdout",
     "output_type": "stream",
     "text": [
      "{1, 2, 3, 4, 6}\n"
     ]
    }
   ],
   "source": [
    "my_set.add(6)  # Add an element\n",
    "print(my_set)"
   ]
  },
  {
   "cell_type": "code",
   "execution_count": 13,
   "metadata": {},
   "outputs": [
    {
     "name": "stdout",
     "output_type": "stream",
     "text": [
      "True\n",
      "False\n"
     ]
    }
   ],
   "source": [
    "## Membership test\n",
    "\n",
    "member_set = {1,2,3,4,5}\n",
    "print(3 in member_set)  # returns a boolean value of true or false depending on the statement\n",
    "print(11 in member_set)\n",
    "\n"
   ]
  },
  {
   "cell_type": "code",
   "execution_count": 16,
   "metadata": {},
   "outputs": [
    {
     "name": "stdout",
     "output_type": "stream",
     "text": [
      "{1, 2, 3, 4, 5, 6, 7, 8, 9}\n",
      "{4, 5, 6}\n",
      "{4, 5, 6}\n"
     ]
    }
   ],
   "source": [
    "## Mathematical Operation \n",
    "\n",
    "set1 = {1,2,3,4,5,6}\n",
    "set2 = {4,5,6,7,8,9}\n",
    "\n",
    "### Union - combining two sets\n",
    "\n",
    "union_set = set1.union(set2)\n",
    "print(union_set)\n",
    "\n",
    "## Intersection - where two sets have commonalities\n",
    "\n",
    "intersection_set = set1.intersection(set2)\n",
    "print(intersection_set)\n",
    "\n",
    "## intersection_update - sets the commonalities of the two sets to the desired set\n",
    "\n",
    "set1.intersection_update(set2)\n",
    "print(set1)  ## set1 will now hold just the integers that were common in both set1 and set2\n",
    "\n",
    "\n"
   ]
  },
  {
   "cell_type": "code",
   "execution_count": 19,
   "metadata": {},
   "outputs": [
    {
     "name": "stdout",
     "output_type": "stream",
     "text": [
      "{1, 2, 3}\n",
      "{1, 2, 3}\n"
     ]
    }
   ],
   "source": [
    "set1 = {1,2,3,4,5,6}\n",
    "set2 = {4,5,6,7,8,9}\n",
    "\n",
    "## Difference\n",
    "difference_set = set1.difference(set2)    ## assigns the difference of the two sets\n",
    "print(difference_set) \n",
    "\n",
    "set1.difference_update(set2)   ## assigns the difference to set1 of the two sets\n",
    "print(set1)\n"
   ]
  },
  {
   "cell_type": "code",
   "execution_count": null,
   "metadata": {},
   "outputs": [
    {
     "data": {
      "text/plain": [
       "{1, 2, 3, 7, 8, 9}"
      ]
     },
     "execution_count": 21,
     "metadata": {},
     "output_type": "execute_result"
    }
   ],
   "source": [
    "## Symmetric Difference - combining the unique elements from both sets \n",
    "\n",
    "set1 = {1,2,3,4,5,6}\n",
    "set2 = {4,5,6,7,8,9}\n",
    "\n",
    "set1.symmetric_difference(set2)\n",
    "\n"
   ]
  },
  {
   "cell_type": "code",
   "execution_count": 23,
   "metadata": {},
   "outputs": [
    {
     "name": "stdout",
     "output_type": "stream",
     "text": [
      "False\n",
      "False\n"
     ]
    }
   ],
   "source": [
    "## Set Methods\n",
    "\n",
    "set1 = {1,2,3}\n",
    "set2 = {3,4,5}\n",
    "\n",
    "## is subset\n",
    "\n",
    "print(set1.issubset(set2))  ## this checks if all the elements in set1 are in set2 (AKA is set2 a parent set of set1)\n",
    "## return will be False -> not ALL elements in set1 are in set2\n",
    "\n",
    "\n",
    "## is superset\n",
    "\n",
    "print(set1.issuperset(set2)) ## this does the opposite of issubset \n",
    "## -> it checks if set1 is a parent of set2 (i.e does set1 have all the elements of set2)\n",
    "## in this case it will also return False\n",
    "\n",
    "\n"
   ]
  },
  {
   "cell_type": "code",
   "execution_count": null,
   "metadata": {},
   "outputs": [
    {
     "data": {
      "text/plain": [
       "{1, 2, 3, 4, 5}"
      ]
     },
     "execution_count": 24,
     "metadata": {},
     "output_type": "execute_result"
    }
   ],
   "source": [
    "## Converting list to set\n",
    "\n",
    "lst = [1,2,2,3,4,4,5]\n",
    "\n",
    "set(lst)\n",
    "## when run it outputs the list as a set; removing dups\n"
   ]
  },
  {
   "cell_type": "code",
   "execution_count": 26,
   "metadata": {},
   "outputs": [
    {
     "name": "stdout",
     "output_type": "stream",
     "text": [
      "{'sets', 'are', 'learning', 'this', 'we', 'tutorial,', 'about', 'In'}\n",
      "8\n"
     ]
    }
   ],
   "source": [
    "## Counting unique words\n",
    "\n",
    "text = \"In this tutorial, we are learning about sets\"\n",
    "words = text.split()\n",
    "\n",
    "## covert ths list of words to a set\n",
    "\n",
    "unique_words = set(words)\n",
    "print(unique_words)\n",
    "print(len(words))"
   ]
  },
  {
   "cell_type": "markdown",
   "metadata": {},
   "source": [
    "### Tuples"
   ]
  },
  {
   "cell_type": "code",
   "execution_count": null,
   "metadata": {},
   "outputs": [],
   "source": []
  }
 ],
 "metadata": {
  "kernelspec": {
   "display_name": "Python 3",
   "language": "python",
   "name": "python3"
  },
  "language_info": {
   "codemirror_mode": {
    "name": "ipython",
    "version": 3
   },
   "file_extension": ".py",
   "mimetype": "text/x-python",
   "name": "python",
   "nbconvert_exporter": "python",
   "pygments_lexer": "ipython3",
   "version": "3.12.0"
  }
 },
 "nbformat": 4,
 "nbformat_minor": 2
}
