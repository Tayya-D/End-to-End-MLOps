{
 "cells": [
  {
   "cell_type": "code",
   "execution_count": 1,
   "id": "819812bb",
   "metadata": {},
   "outputs": [
    {
     "name": "stdout",
     "output_type": "stream",
     "text": [
      "the number is even\n"
     ]
    }
   ],
   "source": [
    "def even_or_odd(number):\n",
    "    \"\"\"This function finds even or odd\"\"\"\n",
    "    if number%2 == 0:\n",
    "        print(\"the number is even\")\n",
    "    else:\n",
    "        print(\"the number is odd\")\n",
    "\n",
    "\n",
    "## Call the function\n",
    "\n",
    "even_or_odd(24)"
   ]
  },
  {
   "cell_type": "code",
   "execution_count": 1,
   "id": "def82e1d",
   "metadata": {},
   "outputs": [
    {
     "name": "stdout",
     "output_type": "stream",
     "text": [
      "10\n"
     ]
    }
   ],
   "source": [
    "def multiply(a, b):\n",
    "    return a * b\n",
    "\n",
    "result = multiply(2, 5)\n",
    "print(result)"
   ]
  },
  {
   "cell_type": "code",
   "execution_count": null,
   "id": "892ec36e",
   "metadata": {},
   "outputs": [
    {
     "name": "stdout",
     "output_type": "stream",
     "text": [
      "Hello Tron. Welcome to the cube\n"
     ]
    }
   ],
   "source": [
    "\n",
    "def greet(name):\n",
    "    print(f\"Hello {name}. Welcome to the cube\")\n",
    "    \n",
    "greet(\"Tron\")"
   ]
  },
  {
   "cell_type": "code",
   "execution_count": 3,
   "id": "3709133e",
   "metadata": {},
   "outputs": [
    {
     "name": "stdout",
     "output_type": "stream",
     "text": [
      "Hello Guest. Welcome to the cube\n",
      "Hello Tron. Welcome to the cube\n"
     ]
    }
   ],
   "source": [
    "## Default parameters\n",
    "\n",
    "def greet(name = \"Guest\"):\n",
    "    print(f\"Hello {name}. Welcome to the cube\")\n",
    "    \n",
    "greet()\n",
    "greet(\"Tron\")"
   ]
  },
  {
   "cell_type": "code",
   "execution_count": 4,
   "id": "3173d240",
   "metadata": {},
   "outputs": [
    {
     "name": "stdout",
     "output_type": "stream",
     "text": [
      "1\n",
      "2\n",
      "3\n",
      "4\n",
      "5\n",
      "Jane\n"
     ]
    }
   ],
   "source": [
    "def print_numbers(*args):\n",
    "    for num in args:\n",
    "        print(num)\n",
    "\n",
    "print_numbers(1,2,3,4,5,\"Jane\")"
   ]
  },
  {
   "cell_type": "code",
   "execution_count": 5,
   "id": "0ec8a783",
   "metadata": {},
   "outputs": [
    {
     "name": "stdout",
     "output_type": "stream",
     "text": [
      "name: Nook\n",
      "age: 25\n",
      "country: UK\n"
     ]
    }
   ],
   "source": [
    "def print_details(**kwargs):\n",
    "    for key, value in kwargs.items():\n",
    "        print(f\"{key}: {value}\")\n",
    "        \n",
    "\n",
    "print_details(name=\"Nook\", age=\"25\", country=\"UK\")"
   ]
  },
  {
   "cell_type": "code",
   "execution_count": 6,
   "id": "cf208fdd",
   "metadata": {},
   "outputs": [
    {
     "name": "stdout",
     "output_type": "stream",
     "text": [
      "Positional argument: 1\n",
      "Positional argument: 2\n",
      "Positional argument: 3\n",
      "Positional argument: 4\n",
      "Positional argument: 5\n",
      "Positional argument: Jane\n",
      "name: Nook\n",
      "age: 25\n",
      "country: UK\n"
     ]
    }
   ],
   "source": [
    "def print_details(*args,**kwargs):\n",
    "    \n",
    "    for val in args:\n",
    "        print(f\"Positional argument: {val}\")\n",
    "    \n",
    "    for key, value in kwargs.items():\n",
    "        print(f\"{key}: {value}\")\n",
    "        \n",
    "\n",
    "## print_details(1,2,3,name=\"Nook\", age=\"25\", country=\"UK\", 4,5,\"Jane\") >> this will result in an error saying positional argument cannot appear after keyword arguments\n",
    "print_details(1,2,3,4,5,\"Jane\", name=\"Nook\", age=\"25\", country=\"UK\")"
   ]
  },
  {
   "cell_type": "markdown",
   "id": "1a3d0920",
   "metadata": {},
   "source": [
    "## Lambda"
   ]
  },
  {
   "cell_type": "code",
   "execution_count": 7,
   "id": "6e309619",
   "metadata": {},
   "outputs": [
    {
     "name": "stdout",
     "output_type": "stream",
     "text": [
      "5\n",
      "5\n"
     ]
    }
   ],
   "source": [
    "# Regular function\n",
    "def add(a, b):\n",
    "    return a + b\n",
    "\n",
    "# Equivalent lambda\n",
    "add_lambda = lambda a, b: a + b\n",
    "\n",
    "print(add(2, 3))          # 5\n",
    "print(add_lambda(2, 3))   # 5"
   ]
  },
  {
   "cell_type": "code",
   "execution_count": 8,
   "id": "9c027aae",
   "metadata": {},
   "outputs": [
    {
     "name": "stdout",
     "output_type": "stream",
     "text": [
      "39\n",
      "39\n"
     ]
    }
   ],
   "source": [
    "# Regular function\n",
    "def add_three(x, y, z):\n",
    "    return x + y + z\n",
    "\n",
    "# Equivalent lambda\n",
    "add_three_lambda = lambda x, y, z: x + y + z\n",
    "\n",
    "print(add_three(12, 13, 14))        # 39\n",
    "print(add_three_lambda(12, 13, 14)) # 39"
   ]
  },
  {
   "cell_type": "code",
   "execution_count": 9,
   "id": "a82e4b68",
   "metadata": {},
   "outputs": [
    {
     "name": "stdout",
     "output_type": "stream",
     "text": [
      "[1, 4, 9, 16, 25, 36]\n"
     ]
    }
   ],
   "source": [
    "numbers = [1, 2, 3, 4, 5, 6]\n",
    "\n",
    "# Square all numbers using map+lambda\n",
    "squared = list(map(lambda x: x**2, numbers))\n",
    "print(squared)  # [1, 4, 9, 16, 25, 36]"
   ]
  },
  {
   "cell_type": "markdown",
   "id": "e07fbfd4",
   "metadata": {},
   "source": [
    "## Maps"
   ]
  },
  {
   "cell_type": "code",
   "execution_count": 12,
   "id": "0c0c730a",
   "metadata": {},
   "outputs": [
    {
     "name": "stdout",
     "output_type": "stream",
     "text": [
      "[1, 4, 9, 16, 25, 36, 49, 64]\n",
      "[1, 4, 9, 16, 25, 36, 49, 64]\n"
     ]
    }
   ],
   "source": [
    "numbers = [1, 2, 3, 4, 5, 6, 7, 8]\n",
    "\n",
    "# Using a named function\n",
    "def square(x):\n",
    "    return x * x\n",
    "\n",
    "squared = list(map(square, numbers))\n",
    "print(squared)\n",
    "# [1, 4, 9, 16, 25, 36, 49, 64]\n",
    "\n",
    "# Using lambda function\n",
    "squared_lambda = list(map(lambda x: x*x, numbers))\n",
    "print(squared_lambda)"
   ]
  },
  {
   "cell_type": "code",
   "execution_count": 13,
   "id": "fbd0678f",
   "metadata": {},
   "outputs": [
    {
     "name": "stdout",
     "output_type": "stream",
     "text": [
      "[5, 7, 9]\n"
     ]
    }
   ],
   "source": [
    "### Map multiple iterables\n",
    "\n",
    "numeber1 = [1,2,3]\n",
    "numbers2 = [4,5,6]\n",
    "\n",
    "added_numbers = list(map(lambda x,y: x+y, numeber1, numbers2))\n",
    "print(added_numbers)"
   ]
  },
  {
   "cell_type": "code",
   "execution_count": null,
   "id": "63a1dc72",
   "metadata": {},
   "outputs": [
    {
     "name": "stdout",
     "output_type": "stream",
     "text": [
      "[1, 2, 3, 4]\n",
      "['APPLE', 'BANANA', 'CHERRY']\n"
     ]
    }
   ],
   "source": [
    "## use map() for type conversions\n",
    "\n",
    "string_numbers = [\"1\", \"2\", \"3\", \"4\"]\n",
    "\n",
    "# Convert strings to integers\n",
    "int_numbers = list(map(int, string_numbers))\n",
    "print(int_numbers)\n",
    "# [1, 2, 3, 4]\n",
    "\n",
    "# covert words to all CAPS\n",
    "words = [\"apple\",\"banana\",\"cherry\"]\n",
    "upper_words = list(map(str.upper, words))\n",
    "print(upper_words)"
   ]
  },
  {
   "cell_type": "code",
   "execution_count": 18,
   "id": "cf4e48e1",
   "metadata": {},
   "outputs": [
    {
     "name": "stdout",
     "output_type": "stream",
     "text": [
      "['Krish', 'Jack']\n"
     ]
    }
   ],
   "source": [
    "people = [\n",
    "    {\"name\": \"Krish\", \"age\": 32},\n",
    "    {\"name\": \"Jack\", \"age\": 33}\n",
    "]\n",
    "\n",
    "def get_name(person):\n",
    "    return person[\"name\"]\n",
    "\n",
    "names = list(map(get_name, people))\n",
    "# [\"Krish\", \"Jack\"]\n",
    "print(names)"
   ]
  },
  {
   "cell_type": "markdown",
   "id": "f3bac6e8",
   "metadata": {},
   "source": [
    "## Filter()"
   ]
  },
  {
   "cell_type": "code",
   "execution_count": null,
   "id": "f3750351",
   "metadata": {},
   "outputs": [
    {
     "name": "stdout",
     "output_type": "stream",
     "text": [
      "[2, 4, 6, 8, 10, 12]\n"
     ]
    }
   ],
   "source": [
    "## filter()\n",
    "\n",
    "numbers = [1, 2, 3, 4, 5, 6, 7, 8, 9, 10, 11, 12]\n",
    "\n",
    "# Using named function\n",
    "def is_even(num):\n",
    "    return num % 2 == 0\n",
    "\n",
    "evens = list(filter(is_even, numbers)) # filter only returns the elements that result in 'True' from the function used\n",
    "# [2, 4, 6, 8, 10, 12]\n",
    "print(evens)"
   ]
  },
  {
   "cell_type": "code",
   "execution_count": 20,
   "id": "b830e734",
   "metadata": {},
   "outputs": [
    {
     "name": "stdout",
     "output_type": "stream",
     "text": [
      "[6, 7, 8, 9, 10, 11, 12]\n"
     ]
    }
   ],
   "source": [
    "## filter with lambda function\n",
    "\n",
    "numbers = [1, 2, 3, 4, 5, 6, 7, 8, 9, 10, 11, 12]\n",
    "\n",
    "greater_than_five = list(filter(lambda x: x>5, numbers))\n",
    "print(greater_than_five)"
   ]
  },
  {
   "cell_type": "code",
   "execution_count": null,
   "id": "39a632d7",
   "metadata": {},
   "outputs": [
    {
     "name": "stdout",
     "output_type": "stream",
     "text": [
      "[6, 8, 10, 12]\n"
     ]
    }
   ],
   "source": [
    "## filter function with a lambda and multiple conditions using logical 'and'\n",
    "\n",
    "numbers = [1, 2, 3, 4, 5, 6, 7, 8, 9, 10, 11, 12]\n",
    "\n",
    "even_and_greater_than_five = list(filter(lambda x:x>5 and x%2==0, numbers)) ## you cannot combine a lambda and a def function in a filter?\n",
    "print(even_and_greater_than_five)"
   ]
  },
  {
   "cell_type": "code",
   "execution_count": 28,
   "id": "d6f6dc45",
   "metadata": {},
   "outputs": [
    {
     "name": "stdout",
     "output_type": "stream",
     "text": [
      "[{'name': 'Tom', 'age': 32}]\n"
     ]
    }
   ],
   "source": [
    "## filter() to check if the age is greater than 25 in dictionaries\n",
    "\n",
    "people=[\n",
    "    {'name': 'Tom', 'age': 32},\n",
    "    {'name': 'Jack', 'age': 12}\n",
    "]\n",
    "\n",
    "def age_greater_than_25(person):\n",
    "    return person['age']>25\n",
    "\n",
    "people_older_than_25 = list(filter (age_greater_than_25, people))\n",
    "print(people_older_than_25)"
   ]
  },
  {
   "cell_type": "code",
   "execution_count": null,
   "id": "6d356fe5",
   "metadata": {},
   "outputs": [],
   "source": []
  }
 ],
 "metadata": {
  "kernelspec": {
   "display_name": "Python 3",
   "language": "python",
   "name": "python3"
  },
  "language_info": {
   "codemirror_mode": {
    "name": "ipython",
    "version": 3
   },
   "file_extension": ".py",
   "mimetype": "text/x-python",
   "name": "python",
   "nbconvert_exporter": "python",
   "pygments_lexer": "ipython3",
   "version": "3.12.0"
  }
 },
 "nbformat": 4,
 "nbformat_minor": 5
}
