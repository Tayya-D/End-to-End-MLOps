{
 "cells": [
  {
   "cell_type": "code",
   "execution_count": 1,
   "id": "819812bb",
   "metadata": {},
   "outputs": [
    {
     "name": "stdout",
     "output_type": "stream",
     "text": [
      "the number is even\n"
     ]
    }
   ],
   "source": [
    "def even_or_odd(number):\n",
    "    \"\"\"This function finds even or odd\"\"\"\n",
    "    if number%2 == 0:\n",
    "        print(\"the number is even\")\n",
    "    else:\n",
    "        print(\"the number is odd\")\n",
    "\n",
    "\n",
    "## Call the function\n",
    "\n",
    "even_or_odd(24)"
   ]
  },
  {
   "cell_type": "code",
   "execution_count": 1,
   "id": "def82e1d",
   "metadata": {},
   "outputs": [
    {
     "name": "stdout",
     "output_type": "stream",
     "text": [
      "10\n"
     ]
    }
   ],
   "source": [
    "def multiply(a, b):\n",
    "    return a * b\n",
    "\n",
    "result = multiply(2, 5)\n",
    "print(result)"
   ]
  },
  {
   "cell_type": "code",
   "execution_count": null,
   "id": "892ec36e",
   "metadata": {},
   "outputs": [
    {
     "name": "stdout",
     "output_type": "stream",
     "text": [
      "Hello Tron. Welcome to the cube\n"
     ]
    }
   ],
   "source": [
    "\n",
    "def greet(name):\n",
    "    print(f\"Hello {name}. Welcome to the cube\")\n",
    "    \n",
    "greet(\"Tron\")"
   ]
  },
  {
   "cell_type": "code",
   "execution_count": 3,
   "id": "3709133e",
   "metadata": {},
   "outputs": [
    {
     "name": "stdout",
     "output_type": "stream",
     "text": [
      "Hello Guest. Welcome to the cube\n",
      "Hello Tron. Welcome to the cube\n"
     ]
    }
   ],
   "source": [
    "## Default parameters\n",
    "\n",
    "def greet(name = \"Guest\"):\n",
    "    print(f\"Hello {name}. Welcome to the cube\")\n",
    "    \n",
    "greet()\n",
    "greet(\"Tron\")"
   ]
  },
  {
   "cell_type": "code",
   "execution_count": 4,
   "id": "3173d240",
   "metadata": {},
   "outputs": [
    {
     "name": "stdout",
     "output_type": "stream",
     "text": [
      "1\n",
      "2\n",
      "3\n",
      "4\n",
      "5\n",
      "Jane\n"
     ]
    }
   ],
   "source": [
    "def print_numbers(*args):\n",
    "    for num in args:\n",
    "        print(num)\n",
    "\n",
    "print_numbers(1,2,3,4,5,\"Jane\")"
   ]
  },
  {
   "cell_type": "code",
   "execution_count": 5,
   "id": "0ec8a783",
   "metadata": {},
   "outputs": [
    {
     "name": "stdout",
     "output_type": "stream",
     "text": [
      "name: Nook\n",
      "age: 25\n",
      "country: UK\n"
     ]
    }
   ],
   "source": [
    "def print_details(**kwargs):\n",
    "    for key, value in kwargs.items():\n",
    "        print(f\"{key}: {value}\")\n",
    "        \n",
    "\n",
    "print_details(name=\"Nook\", age=\"25\", country=\"UK\")"
   ]
  },
  {
   "cell_type": "code",
   "execution_count": 6,
   "id": "cf208fdd",
   "metadata": {},
   "outputs": [
    {
     "name": "stdout",
     "output_type": "stream",
     "text": [
      "Positional argument: 1\n",
      "Positional argument: 2\n",
      "Positional argument: 3\n",
      "Positional argument: 4\n",
      "Positional argument: 5\n",
      "Positional argument: Jane\n",
      "name: Nook\n",
      "age: 25\n",
      "country: UK\n"
     ]
    }
   ],
   "source": [
    "def print_details(*args,**kwargs):\n",
    "    \n",
    "    for val in args:\n",
    "        print(f\"Positional argument: {val}\")\n",
    "    \n",
    "    for key, value in kwargs.items():\n",
    "        print(f\"{key}: {value}\")\n",
    "        \n",
    "\n",
    "## print_details(1,2,3,name=\"Nook\", age=\"25\", country=\"UK\", 4,5,\"Jane\") >> this will result in an error saying positional argument cannot appear after keyword arguments\n",
    "print_details(1,2,3,4,5,\"Jane\", name=\"Nook\", age=\"25\", country=\"UK\")"
   ]
  },
  {
   "cell_type": "code",
   "execution_count": null,
   "id": "6e309619",
   "metadata": {},
   "outputs": [],
   "source": []
  }
 ],
 "metadata": {
  "kernelspec": {
   "display_name": "Python 3",
   "language": "python",
   "name": "python3"
  },
  "language_info": {
   "codemirror_mode": {
    "name": "ipython",
    "version": 3
   },
   "file_extension": ".py",
   "mimetype": "text/x-python",
   "name": "python",
   "nbconvert_exporter": "python",
   "pygments_lexer": "ipython3",
   "version": "3.12.0"
  }
 },
 "nbformat": 4,
 "nbformat_minor": 5
}
